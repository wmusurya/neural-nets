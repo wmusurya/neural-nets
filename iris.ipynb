{
  "nbformat": 4,
  "nbformat_minor": 0,
  "metadata": {
    "colab": {
      "provenance": [],
      "toc_visible": true,
      "authorship_tag": "ABX9TyNivNO84AjBRqUySQx5Mv3y",
      "include_colab_link": true
    },
    "kernelspec": {
      "name": "python3",
      "display_name": "Python 3"
    },
    "language_info": {
      "name": "python"
    }
  },
  "cells": [
    {
      "cell_type": "markdown",
      "metadata": {
        "id": "view-in-github",
        "colab_type": "text"
      },
      "source": [
        "<a href=\"https://colab.research.google.com/github/wmusurya/neural-nets/blob/master/iris.ipynb\" target=\"_parent\"><img src=\"https://colab.research.google.com/assets/colab-badge.svg\" alt=\"Open In Colab\"/></a>"
      ]
    },
    {
      "cell_type": "code",
      "execution_count": 5,
      "metadata": {
        "id": "0vm1nDpB1SPJ"
      },
      "outputs": [],
      "source": [
        "import numpy as np\n",
        "from sklearn import datasets\n",
        "from sklearn.model_selection import train_test_split\n",
        "from sklearn.preprocessing import StandardScaler, LabelEncoder\n",
        "from tensorflow.keras.models import Sequential\n",
        "from tensorflow.keras.layers import Dense\n",
        "from tensorflow.keras.utils import to_categorical\n",
        "from sklearn.utils import shuffle\n"
      ]
    },
    {
      "cell_type": "code",
      "source": [
        "iris = datasets.load_iris()\n",
        "X = iris.data\n",
        "y = iris.target"
      ],
      "metadata": {
        "id": "y_0CB6961d3q"
      },
      "execution_count": 6,
      "outputs": []
    },
    {
      "cell_type": "code",
      "source": [
        "X, y = shuffle(X, y, random_state=42)\n"
      ],
      "metadata": {
        "id": "telXvihn1gZz"
      },
      "execution_count": 7,
      "outputs": []
    },
    {
      "cell_type": "code",
      "source": [
        "X_train, X_test, y_train, y_test = train_test_split(X, y, test_size=0.2, random_state=42)\n"
      ],
      "metadata": {
        "id": "SYKwJA9C1iVY"
      },
      "execution_count": 8,
      "outputs": []
    },
    {
      "cell_type": "code",
      "source": [
        "scaler = StandardScaler()\n",
        "X_train = scaler.fit_transform(X_train)\n",
        "X_test = scaler.transform(X_test)"
      ],
      "metadata": {
        "id": "15duUvVg1whS"
      },
      "execution_count": 9,
      "outputs": []
    },
    {
      "cell_type": "code",
      "source": [
        "label_encoder = LabelEncoder()\n",
        "y_train_encoded = to_categorical(label_encoder.fit_transform(y_train))\n",
        "y_test_encoded = to_categorical(label_encoder.transform(y_test))\n"
      ],
      "metadata": {
        "id": "00P9hoip1zUc"
      },
      "execution_count": 10,
      "outputs": []
    },
    {
      "cell_type": "code",
      "source": [
        "model = Sequential()\n",
        "model.add(Dense(8, input_dim=4, activation='relu'))\n",
        "model.add(Dense(3, activation='softmax'))"
      ],
      "metadata": {
        "id": "h2cfLuvg17VY"
      },
      "execution_count": 11,
      "outputs": []
    },
    {
      "cell_type": "code",
      "source": [
        "model.compile(loss='categorical_crossentropy', optimizer='adam', metrics=['accuracy'])\n"
      ],
      "metadata": {
        "id": "cFF7l6aD2ADE"
      },
      "execution_count": 12,
      "outputs": []
    },
    {
      "cell_type": "code",
      "source": [
        "model.fit(X_train, y_train_encoded, epochs=50, batch_size=5, validation_split=0.1)\n"
      ],
      "metadata": {
        "colab": {
          "base_uri": "https://localhost:8080/"
        },
        "id": "cFdn8bVR2B-8",
        "outputId": "a657bc07-f354-4377-eb56-185b73636ab3"
      },
      "execution_count": 13,
      "outputs": [
        {
          "output_type": "stream",
          "name": "stdout",
          "text": [
            "Epoch 1/50\n",
            "22/22 [==============================] - 2s 29ms/step - loss: 1.2682 - accuracy: 0.3426 - val_loss: 1.1288 - val_accuracy: 0.5000\n",
            "Epoch 2/50\n",
            "22/22 [==============================] - 0s 5ms/step - loss: 1.1632 - accuracy: 0.3611 - val_loss: 1.0173 - val_accuracy: 0.5000\n",
            "Epoch 3/50\n",
            "22/22 [==============================] - 0s 4ms/step - loss: 1.0694 - accuracy: 0.3704 - val_loss: 0.9175 - val_accuracy: 0.5000\n",
            "Epoch 4/50\n",
            "22/22 [==============================] - 0s 4ms/step - loss: 0.9867 - accuracy: 0.4074 - val_loss: 0.8349 - val_accuracy: 0.5000\n",
            "Epoch 5/50\n",
            "22/22 [==============================] - 0s 3ms/step - loss: 0.9123 - accuracy: 0.5185 - val_loss: 0.7581 - val_accuracy: 0.5000\n",
            "Epoch 6/50\n",
            "22/22 [==============================] - 0s 4ms/step - loss: 0.8529 - accuracy: 0.6019 - val_loss: 0.6935 - val_accuracy: 0.6667\n",
            "Epoch 7/50\n",
            "22/22 [==============================] - 0s 4ms/step - loss: 0.7977 - accuracy: 0.6667 - val_loss: 0.6423 - val_accuracy: 0.8333\n",
            "Epoch 8/50\n",
            "22/22 [==============================] - 0s 4ms/step - loss: 0.7527 - accuracy: 0.7130 - val_loss: 0.6008 - val_accuracy: 0.8333\n",
            "Epoch 9/50\n",
            "22/22 [==============================] - 0s 4ms/step - loss: 0.7114 - accuracy: 0.7685 - val_loss: 0.5645 - val_accuracy: 0.8333\n",
            "Epoch 10/50\n",
            "22/22 [==============================] - 0s 3ms/step - loss: 0.6774 - accuracy: 0.7963 - val_loss: 0.5333 - val_accuracy: 0.8333\n",
            "Epoch 11/50\n",
            "22/22 [==============================] - 0s 3ms/step - loss: 0.6456 - accuracy: 0.8056 - val_loss: 0.5058 - val_accuracy: 0.8333\n",
            "Epoch 12/50\n",
            "22/22 [==============================] - 0s 4ms/step - loss: 0.6187 - accuracy: 0.8148 - val_loss: 0.4829 - val_accuracy: 0.8333\n",
            "Epoch 13/50\n",
            "22/22 [==============================] - 0s 4ms/step - loss: 0.5941 - accuracy: 0.8148 - val_loss: 0.4621 - val_accuracy: 0.8333\n",
            "Epoch 14/50\n",
            "22/22 [==============================] - 0s 3ms/step - loss: 0.5714 - accuracy: 0.8148 - val_loss: 0.4459 - val_accuracy: 0.8333\n",
            "Epoch 15/50\n",
            "22/22 [==============================] - 0s 3ms/step - loss: 0.5510 - accuracy: 0.8148 - val_loss: 0.4302 - val_accuracy: 0.8333\n",
            "Epoch 16/50\n",
            "22/22 [==============================] - 0s 4ms/step - loss: 0.5325 - accuracy: 0.8148 - val_loss: 0.4161 - val_accuracy: 0.8333\n",
            "Epoch 17/50\n",
            "22/22 [==============================] - 0s 4ms/step - loss: 0.5152 - accuracy: 0.8148 - val_loss: 0.4037 - val_accuracy: 0.8333\n",
            "Epoch 18/50\n",
            "22/22 [==============================] - 0s 3ms/step - loss: 0.5001 - accuracy: 0.8148 - val_loss: 0.3921 - val_accuracy: 0.8333\n",
            "Epoch 19/50\n",
            "22/22 [==============================] - 0s 4ms/step - loss: 0.4850 - accuracy: 0.8241 - val_loss: 0.3813 - val_accuracy: 0.8333\n",
            "Epoch 20/50\n",
            "22/22 [==============================] - 0s 4ms/step - loss: 0.4718 - accuracy: 0.8241 - val_loss: 0.3721 - val_accuracy: 0.8333\n",
            "Epoch 21/50\n",
            "22/22 [==============================] - 0s 4ms/step - loss: 0.4588 - accuracy: 0.8241 - val_loss: 0.3634 - val_accuracy: 0.8333\n",
            "Epoch 22/50\n",
            "22/22 [==============================] - 0s 4ms/step - loss: 0.4481 - accuracy: 0.8241 - val_loss: 0.3561 - val_accuracy: 0.8333\n",
            "Epoch 23/50\n",
            "22/22 [==============================] - 0s 3ms/step - loss: 0.4359 - accuracy: 0.8241 - val_loss: 0.3486 - val_accuracy: 0.8333\n",
            "Epoch 24/50\n",
            "22/22 [==============================] - 0s 4ms/step - loss: 0.4257 - accuracy: 0.8333 - val_loss: 0.3417 - val_accuracy: 0.8333\n",
            "Epoch 25/50\n",
            "22/22 [==============================] - 0s 4ms/step - loss: 0.4152 - accuracy: 0.8333 - val_loss: 0.3353 - val_accuracy: 0.8333\n",
            "Epoch 26/50\n",
            "22/22 [==============================] - 0s 3ms/step - loss: 0.4054 - accuracy: 0.8333 - val_loss: 0.3297 - val_accuracy: 0.8333\n",
            "Epoch 27/50\n",
            "22/22 [==============================] - 0s 4ms/step - loss: 0.3962 - accuracy: 0.8333 - val_loss: 0.3244 - val_accuracy: 0.8333\n",
            "Epoch 28/50\n",
            "22/22 [==============================] - 0s 4ms/step - loss: 0.3878 - accuracy: 0.8519 - val_loss: 0.3215 - val_accuracy: 0.8333\n",
            "Epoch 29/50\n",
            "22/22 [==============================] - 0s 4ms/step - loss: 0.3793 - accuracy: 0.8519 - val_loss: 0.3150 - val_accuracy: 0.8333\n",
            "Epoch 30/50\n",
            "22/22 [==============================] - 0s 6ms/step - loss: 0.3716 - accuracy: 0.8611 - val_loss: 0.3118 - val_accuracy: 0.8333\n",
            "Epoch 31/50\n",
            "22/22 [==============================] - 0s 6ms/step - loss: 0.3644 - accuracy: 0.8611 - val_loss: 0.3065 - val_accuracy: 0.8333\n",
            "Epoch 32/50\n",
            "22/22 [==============================] - 0s 6ms/step - loss: 0.3568 - accuracy: 0.8611 - val_loss: 0.3030 - val_accuracy: 0.7500\n",
            "Epoch 33/50\n",
            "22/22 [==============================] - 0s 6ms/step - loss: 0.3499 - accuracy: 0.8611 - val_loss: 0.2990 - val_accuracy: 0.7500\n",
            "Epoch 34/50\n",
            "22/22 [==============================] - 0s 5ms/step - loss: 0.3433 - accuracy: 0.8611 - val_loss: 0.2963 - val_accuracy: 0.7500\n",
            "Epoch 35/50\n",
            "22/22 [==============================] - 0s 5ms/step - loss: 0.3366 - accuracy: 0.8704 - val_loss: 0.2928 - val_accuracy: 0.7500\n",
            "Epoch 36/50\n",
            "22/22 [==============================] - 0s 5ms/step - loss: 0.3305 - accuracy: 0.8704 - val_loss: 0.2893 - val_accuracy: 0.7500\n",
            "Epoch 37/50\n",
            "22/22 [==============================] - 0s 6ms/step - loss: 0.3247 - accuracy: 0.8796 - val_loss: 0.2874 - val_accuracy: 0.7500\n",
            "Epoch 38/50\n",
            "22/22 [==============================] - 0s 5ms/step - loss: 0.3185 - accuracy: 0.8796 - val_loss: 0.2831 - val_accuracy: 0.7500\n",
            "Epoch 39/50\n",
            "22/22 [==============================] - 0s 7ms/step - loss: 0.3128 - accuracy: 0.8796 - val_loss: 0.2796 - val_accuracy: 0.7500\n",
            "Epoch 40/50\n",
            "22/22 [==============================] - 0s 6ms/step - loss: 0.3072 - accuracy: 0.8889 - val_loss: 0.2742 - val_accuracy: 0.7500\n",
            "Epoch 41/50\n",
            "22/22 [==============================] - 0s 6ms/step - loss: 0.3009 - accuracy: 0.8981 - val_loss: 0.2703 - val_accuracy: 0.7500\n",
            "Epoch 42/50\n",
            "22/22 [==============================] - 0s 6ms/step - loss: 0.2948 - accuracy: 0.8981 - val_loss: 0.2645 - val_accuracy: 0.8333\n",
            "Epoch 43/50\n",
            "22/22 [==============================] - 0s 6ms/step - loss: 0.2894 - accuracy: 0.8981 - val_loss: 0.2621 - val_accuracy: 0.8333\n",
            "Epoch 44/50\n",
            "22/22 [==============================] - 0s 6ms/step - loss: 0.2833 - accuracy: 0.9074 - val_loss: 0.2594 - val_accuracy: 0.8333\n",
            "Epoch 45/50\n",
            "22/22 [==============================] - 0s 6ms/step - loss: 0.2779 - accuracy: 0.9167 - val_loss: 0.2543 - val_accuracy: 0.8333\n",
            "Epoch 46/50\n",
            "22/22 [==============================] - 0s 5ms/step - loss: 0.2726 - accuracy: 0.9167 - val_loss: 0.2525 - val_accuracy: 0.8333\n",
            "Epoch 47/50\n",
            "22/22 [==============================] - 0s 7ms/step - loss: 0.2677 - accuracy: 0.9167 - val_loss: 0.2528 - val_accuracy: 0.8333\n",
            "Epoch 48/50\n",
            "22/22 [==============================] - 0s 6ms/step - loss: 0.2627 - accuracy: 0.9259 - val_loss: 0.2525 - val_accuracy: 0.8333\n",
            "Epoch 49/50\n",
            "22/22 [==============================] - 0s 6ms/step - loss: 0.2582 - accuracy: 0.9259 - val_loss: 0.2511 - val_accuracy: 0.8333\n",
            "Epoch 50/50\n",
            "22/22 [==============================] - 0s 5ms/step - loss: 0.2531 - accuracy: 0.9259 - val_loss: 0.2476 - val_accuracy: 0.8333\n"
          ]
        },
        {
          "output_type": "execute_result",
          "data": {
            "text/plain": [
              "<keras.src.callbacks.History at 0x7ba6bce52680>"
            ]
          },
          "metadata": {},
          "execution_count": 13
        }
      ]
    },
    {
      "cell_type": "code",
      "source": [
        "loss, accuracy = model.evaluate(X_test, y_test_encoded)\n"
      ],
      "metadata": {
        "colab": {
          "base_uri": "https://localhost:8080/"
        },
        "id": "3cd08BuX2D5-",
        "outputId": "1423e880-6005-4c2e-d262-b8440ace84f2"
      },
      "execution_count": 14,
      "outputs": [
        {
          "output_type": "stream",
          "name": "stdout",
          "text": [
            "1/1 [==============================] - 0s 41ms/step - loss: 0.1795 - accuracy: 0.9667\n"
          ]
        }
      ]
    },
    {
      "cell_type": "code",
      "source": [
        "print(f\"\\nTest Loss: {loss:.4f}, Test Accuracy: {accuracy:.4f}\")\n",
        "\n"
      ],
      "metadata": {
        "colab": {
          "base_uri": "https://localhost:8080/"
        },
        "id": "OuJWcta62JKT",
        "outputId": "561594ff-265b-47f6-9127-92fe3f39a8ce"
      },
      "execution_count": 15,
      "outputs": [
        {
          "output_type": "stream",
          "name": "stdout",
          "text": [
            "\n",
            "Test Loss: 0.1795, Test Accuracy: 0.9667\n"
          ]
        }
      ]
    }
  ]
}